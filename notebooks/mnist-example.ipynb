{
 "cells": [
  {
   "cell_type": "markdown",
   "metadata": {},
   "source": [
    "# Getting started\n",
    "First we import Keras and as a test we check to see what backend it's using"
   ]
  },
  {
   "cell_type": "code",
   "execution_count": 1,
   "metadata": {
    "collapsed": false
   },
   "outputs": [],
   "source": [
    "# matplotlib is used for...you guessed it: plotting!\n",
    "import matplotlib.pyplot as plt\n",
    "\n",
    "# This next line is a Jupyter directive. It tells Jupyter that we want our plots to show\n",
    "# up right below the code that creates them.\n",
    "%matplotlib inline"
   ]
  },
  {
   "cell_type": "code",
   "execution_count": 2,
   "metadata": {
    "collapsed": false
   },
   "outputs": [
    {
     "name": "stdout",
     "output_type": "stream",
     "text": [
      "Current backend:\ttensorflow\n",
      "TensorFlow version:\t1.0.1\n",
      "Using Keras Version:\t2.0.2\n"
     ]
    },
    {
     "name": "stderr",
     "output_type": "stream",
     "text": [
      "Using TensorFlow backend.\n"
     ]
    }
   ],
   "source": [
    "import tensorflow as tf\n",
    "from keras import backend,__version__ as keras_version\n",
    "\n",
    "print \"Current backend:\\t\" + backend._BACKEND\n",
    "print \"TensorFlow version:\\t\" + tf.__version__\n",
    "print \"Using Keras Version:\\t\" + keras_version"
   ]
  },
  {
   "cell_type": "markdown",
   "metadata": {},
   "source": [
    "## Setup our imports \n",
    "Here we're using the `keras.datasets` module to download the `mnist` dataset from amazon"
   ]
  },
  {
   "cell_type": "code",
   "execution_count": 3,
   "metadata": {
    "collapsed": false
   },
   "outputs": [
    {
     "name": "stdout",
     "output_type": "stream",
     "text": [
      "Downloading data from https://s3.amazonaws.com/img-datasets/mnist.npz\n"
     ]
    }
   ],
   "source": [
    "'''Trains a simple deep NN on the MNIST dataset.\n",
    "Gets to 98.40% test accuracy after 20 epochs\n",
    "(there is *a lot* of margin for parameter tuning).\n",
    "2 seconds per epoch on a K520 GPU.\n",
    "'''\n",
    "\n",
    "from __future__ import print_function\n",
    "import numpy as np\n",
    "np.random.seed(1337)  # for reproducibility\n",
    "\n",
    "from keras.callbacks import TensorBoard\n",
    "from keras.datasets import mnist\n",
    "from keras.models import Sequential\n",
    "from keras.layers.core import Dense, Dropout, Activation\n",
    "from keras.optimizers import SGD, Adam, RMSprop\n",
    "from keras.utils import np_utils\n",
    "\n",
    "batch_size = 128\n",
    "nb_classes = 10\n",
    "nb_epoch = 10\n",
    "\n",
    "# the data, shuffled and split between train and test sets\n",
    "(X_train, y_train), (X_test, y_test) = mnist.load_data()\n",
    "\n",
    "X_train = X_train.reshape(60000, 784)\n",
    "X_test = X_test.reshape(10000, 784)\n",
    "X_train = X_train.astype('float32')\n",
    "X_test = X_test.astype('float32')\n",
    "X_train /= 255\n",
    "X_test /= 255"
   ]
  },
  {
   "cell_type": "code",
   "execution_count": 4,
   "metadata": {
    "collapsed": false
   },
   "outputs": [
    {
     "name": "stdout",
     "output_type": "stream",
     "text": [
      "60000 train samples\n",
      "10000 test samples\n",
      "_________________________________________________________________\n",
      "Layer (type)                 Output Shape              Param #   \n",
      "=================================================================\n",
      "dense_1 (Dense)              (None, 512)               401920    \n",
      "_________________________________________________________________\n",
      "activation_1 (Activation)    (None, 512)               0         \n",
      "_________________________________________________________________\n",
      "dropout_1 (Dropout)          (None, 512)               0         \n",
      "_________________________________________________________________\n",
      "dense_2 (Dense)              (None, 512)               262656    \n",
      "_________________________________________________________________\n",
      "activation_2 (Activation)    (None, 512)               0         \n",
      "_________________________________________________________________\n",
      "dropout_2 (Dropout)          (None, 512)               0         \n",
      "_________________________________________________________________\n",
      "dense_3 (Dense)              (None, 10)                5130      \n",
      "_________________________________________________________________\n",
      "activation_3 (Activation)    (None, 10)                0         \n",
      "=================================================================\n",
      "Total params: 669,706.0\n",
      "Trainable params: 669,706.0\n",
      "Non-trainable params: 0.0\n",
      "_________________________________________________________________\n",
      "Train on 60000 samples, validate on 10000 samples\n",
      "INFO:tensorflow:Summary name dense_1/kernel:0 is illegal; using dense_1/kernel_0 instead.\n",
      "INFO:tensorflow:Summary name dense_1/kernel:0 is illegal; using dense_1/kernel_0 instead.\n",
      "INFO:tensorflow:Summary name dense_1/bias:0 is illegal; using dense_1/bias_0 instead.\n",
      "INFO:tensorflow:Summary name dense_1/bias:0 is illegal; using dense_1/bias_0 instead.\n",
      "INFO:tensorflow:Summary name dense_2/kernel:0 is illegal; using dense_2/kernel_0 instead.\n",
      "INFO:tensorflow:Summary name dense_2/kernel:0 is illegal; using dense_2/kernel_0 instead.\n",
      "INFO:tensorflow:Summary name dense_2/bias:0 is illegal; using dense_2/bias_0 instead.\n",
      "INFO:tensorflow:Summary name dense_2/bias:0 is illegal; using dense_2/bias_0 instead.\n",
      "INFO:tensorflow:Summary name dense_3/kernel:0 is illegal; using dense_3/kernel_0 instead.\n",
      "INFO:tensorflow:Summary name dense_3/kernel:0 is illegal; using dense_3/kernel_0 instead.\n",
      "INFO:tensorflow:Summary name dense_3/bias:0 is illegal; using dense_3/bias_0 instead.\n",
      "INFO:tensorflow:Summary name dense_3/bias:0 is illegal; using dense_3/bias_0 instead.\n",
      "Epoch 1/10\n",
      "60000/60000 [==============================] - 8s - loss: 0.2426 - acc: 0.9252 - val_loss: 0.1140 - val_acc: 0.9656\n",
      "Epoch 2/10\n",
      "60000/60000 [==============================] - 10s - loss: 0.1002 - acc: 0.9698 - val_loss: 0.0917 - val_acc: 0.9731\n",
      "Epoch 3/10\n",
      "60000/60000 [==============================] - 11s - loss: 0.0760 - acc: 0.9769 - val_loss: 0.0860 - val_acc: 0.9754\n",
      "Epoch 4/10\n",
      "60000/60000 [==============================] - 10s - loss: 0.0604 - acc: 0.9817 - val_loss: 0.1079 - val_acc: 0.9705\n",
      "Epoch 5/10\n",
      "60000/60000 [==============================] - 12s - loss: 0.0501 - acc: 0.9853 - val_loss: 0.0843 - val_acc: 0.9799\n",
      "Epoch 6/10\n",
      "60000/60000 [==============================] - 11s - loss: 0.0434 - acc: 0.9869 - val_loss: 0.0806 - val_acc: 0.9820\n",
      "Epoch 7/10\n",
      "60000/60000 [==============================] - 11s - loss: 0.0391 - acc: 0.9887 - val_loss: 0.0771 - val_acc: 0.9821\n",
      "Epoch 8/10\n",
      "60000/60000 [==============================] - 10s - loss: 0.0338 - acc: 0.9898 - val_loss: 0.0892 - val_acc: 0.9816\n",
      "Epoch 9/10\n",
      "60000/60000 [==============================] - 10s - loss: 0.0321 - acc: 0.9907 - val_loss: 0.0977 - val_acc: 0.9807\n",
      "Epoch 10/10\n",
      "60000/60000 [==============================] - 11s - loss: 0.0281 - acc: 0.9922 - val_loss: 0.0907 - val_acc: 0.9824\n",
      "Test score: 0.0906706237803\n",
      "Test accuracy: 0.9824\n"
     ]
    }
   ],
   "source": [
    "print(X_train.shape[0], 'train samples')\n",
    "print(X_test.shape[0], 'test samples')\n",
    "\n",
    "# convert class vectors to binary class matrices\n",
    "Y_train = np_utils.to_categorical(y_train, nb_classes)\n",
    "Y_test = np_utils.to_categorical(y_test, nb_classes)\n",
    "\n",
    "model = Sequential()\n",
    "model.add(Dense(512, input_shape=(784,)))\n",
    "model.add(Activation('relu'))\n",
    "model.add(Dropout(0.2))\n",
    "model.add(Dense(512))\n",
    "model.add(Activation('relu'))\n",
    "model.add(Dropout(0.2))\n",
    "model.add(Dense(10))\n",
    "model.add(Activation('softmax'))\n",
    "\n",
    "model.summary()\n",
    "\n",
    "model.compile(loss='categorical_crossentropy',\n",
    "              optimizer=RMSprop(),\n",
    "              metrics=['accuracy'])\n",
    "\n",
    "history = model.fit(X_train, Y_train,\n",
    "                    batch_size=batch_size, epochs=nb_epoch,\n",
    "                    callbacks=[TensorBoard(log_dir='/tensorboard', histogram_freq=1,write_images=True, write_graph=True)],\n",
    "                    verbose=1, validation_data=(X_test, Y_test))\n",
    "score = model.evaluate(X_test, Y_test, verbose=0)\n",
    "print('Test score:', score[0])\n",
    "print('Test accuracy:', score[1])"
   ]
  },
  {
   "cell_type": "code",
   "execution_count": 5,
   "metadata": {
    "collapsed": false
   },
   "outputs": [
    {
     "data": {
      "image/svg+xml": [
       "<svg height=\"638pt\" viewBox=\"0.00 0.00 170.00 638.00\" width=\"170pt\" xmlns=\"http://www.w3.org/2000/svg\" xmlns:xlink=\"http://www.w3.org/1999/xlink\">\n",
       "<g class=\"graph\" id=\"graph0\" transform=\"scale(1 1) rotate(0) translate(4 634)\">\n",
       "<title>G</title>\n",
       "<polygon fill=\"white\" points=\"-4,4 -4,-634 166,-634 166,4 -4,4\" stroke=\"none\"/>\n",
       "<!-- 139735642985232 -->\n",
       "<g class=\"node\" id=\"node1\"><title>139735642985232</title>\n",
       "<polygon fill=\"none\" points=\"-0.5,-593 -0.5,-629 162.5,-629 162.5,-593 -0.5,-593\" stroke=\"black\"/>\n",
       "<text font-family=\"Times,serif\" font-size=\"14.00\" text-anchor=\"middle\" x=\"81\" y=\"-607.3\">dense_1_input: InputLayer</text>\n",
       "</g>\n",
       "<!-- 139735642984848 -->\n",
       "<g class=\"node\" id=\"node2\"><title>139735642984848</title>\n",
       "<polygon fill=\"none\" points=\"30,-519 30,-555 132,-555 132,-519 30,-519\" stroke=\"black\"/>\n",
       "<text font-family=\"Times,serif\" font-size=\"14.00\" text-anchor=\"middle\" x=\"81\" y=\"-533.3\">dense_1: Dense</text>\n",
       "</g>\n",
       "<!-- 139735642985232&#45;&gt;139735642984848 -->\n",
       "<g class=\"edge\" id=\"edge1\"><title>139735642985232-&gt;139735642984848</title>\n",
       "<path d=\"M81,-592.937C81,-584.807 81,-574.876 81,-565.705\" fill=\"none\" stroke=\"black\"/>\n",
       "<polygon fill=\"black\" points=\"84.5001,-565.441 81,-555.441 77.5001,-565.441 84.5001,-565.441\" stroke=\"black\"/>\n",
       "</g>\n",
       "<!-- 139735670978768 -->\n",
       "<g class=\"node\" id=\"node3\"><title>139735670978768</title>\n",
       "<polygon fill=\"none\" points=\"7,-445 7,-481 155,-481 155,-445 7,-445\" stroke=\"black\"/>\n",
       "<text font-family=\"Times,serif\" font-size=\"14.00\" text-anchor=\"middle\" x=\"81\" y=\"-459.3\">activation_1: Activation</text>\n",
       "</g>\n",
       "<!-- 139735642984848&#45;&gt;139735670978768 -->\n",
       "<g class=\"edge\" id=\"edge2\"><title>139735642984848-&gt;139735670978768</title>\n",
       "<path d=\"M81,-518.937C81,-510.807 81,-500.876 81,-491.705\" fill=\"none\" stroke=\"black\"/>\n",
       "<polygon fill=\"black\" points=\"84.5001,-491.441 81,-481.441 77.5001,-491.441 84.5001,-491.441\" stroke=\"black\"/>\n",
       "</g>\n",
       "<!-- 139735642985360 -->\n",
       "<g class=\"node\" id=\"node4\"><title>139735642985360</title>\n",
       "<polygon fill=\"none\" points=\"18.5,-371 18.5,-407 143.5,-407 143.5,-371 18.5,-371\" stroke=\"black\"/>\n",
       "<text font-family=\"Times,serif\" font-size=\"14.00\" text-anchor=\"middle\" x=\"81\" y=\"-385.3\">dropout_1: Dropout</text>\n",
       "</g>\n",
       "<!-- 139735670978768&#45;&gt;139735642985360 -->\n",
       "<g class=\"edge\" id=\"edge3\"><title>139735670978768-&gt;139735642985360</title>\n",
       "<path d=\"M81,-444.937C81,-436.807 81,-426.876 81,-417.705\" fill=\"none\" stroke=\"black\"/>\n",
       "<polygon fill=\"black\" points=\"84.5001,-417.441 81,-407.441 77.5001,-417.441 84.5001,-417.441\" stroke=\"black\"/>\n",
       "</g>\n",
       "<!-- 139735642986064 -->\n",
       "<g class=\"node\" id=\"node5\"><title>139735642986064</title>\n",
       "<polygon fill=\"none\" points=\"30,-297 30,-333 132,-333 132,-297 30,-297\" stroke=\"black\"/>\n",
       "<text font-family=\"Times,serif\" font-size=\"14.00\" text-anchor=\"middle\" x=\"81\" y=\"-311.3\">dense_2: Dense</text>\n",
       "</g>\n",
       "<!-- 139735642985360&#45;&gt;139735642986064 -->\n",
       "<g class=\"edge\" id=\"edge4\"><title>139735642985360-&gt;139735642986064</title>\n",
       "<path d=\"M81,-370.937C81,-362.807 81,-352.876 81,-343.705\" fill=\"none\" stroke=\"black\"/>\n",
       "<polygon fill=\"black\" points=\"84.5001,-343.441 81,-333.441 77.5001,-343.441 84.5001,-343.441\" stroke=\"black\"/>\n",
       "</g>\n",
       "<!-- 139735643114576 -->\n",
       "<g class=\"node\" id=\"node6\"><title>139735643114576</title>\n",
       "<polygon fill=\"none\" points=\"7,-223 7,-259 155,-259 155,-223 7,-223\" stroke=\"black\"/>\n",
       "<text font-family=\"Times,serif\" font-size=\"14.00\" text-anchor=\"middle\" x=\"81\" y=\"-237.3\">activation_2: Activation</text>\n",
       "</g>\n",
       "<!-- 139735642986064&#45;&gt;139735643114576 -->\n",
       "<g class=\"edge\" id=\"edge5\"><title>139735642986064-&gt;139735643114576</title>\n",
       "<path d=\"M81,-296.937C81,-288.807 81,-278.876 81,-269.705\" fill=\"none\" stroke=\"black\"/>\n",
       "<polygon fill=\"black\" points=\"84.5001,-269.441 81,-259.441 77.5001,-269.441 84.5001,-269.441\" stroke=\"black\"/>\n",
       "</g>\n",
       "<!-- 139735604969360 -->\n",
       "<g class=\"node\" id=\"node7\"><title>139735604969360</title>\n",
       "<polygon fill=\"none\" points=\"18.5,-149 18.5,-185 143.5,-185 143.5,-149 18.5,-149\" stroke=\"black\"/>\n",
       "<text font-family=\"Times,serif\" font-size=\"14.00\" text-anchor=\"middle\" x=\"81\" y=\"-163.3\">dropout_2: Dropout</text>\n",
       "</g>\n",
       "<!-- 139735643114576&#45;&gt;139735604969360 -->\n",
       "<g class=\"edge\" id=\"edge6\"><title>139735643114576-&gt;139735604969360</title>\n",
       "<path d=\"M81,-222.937C81,-214.807 81,-204.876 81,-195.705\" fill=\"none\" stroke=\"black\"/>\n",
       "<polygon fill=\"black\" points=\"84.5001,-195.441 81,-185.441 77.5001,-195.441 84.5001,-195.441\" stroke=\"black\"/>\n",
       "</g>\n",
       "<!-- 139735604865552 -->\n",
       "<g class=\"node\" id=\"node8\"><title>139735604865552</title>\n",
       "<polygon fill=\"none\" points=\"30,-75 30,-111 132,-111 132,-75 30,-75\" stroke=\"black\"/>\n",
       "<text font-family=\"Times,serif\" font-size=\"14.00\" text-anchor=\"middle\" x=\"81\" y=\"-89.3\">dense_3: Dense</text>\n",
       "</g>\n",
       "<!-- 139735604969360&#45;&gt;139735604865552 -->\n",
       "<g class=\"edge\" id=\"edge7\"><title>139735604969360-&gt;139735604865552</title>\n",
       "<path d=\"M81,-148.937C81,-140.807 81,-130.876 81,-121.705\" fill=\"none\" stroke=\"black\"/>\n",
       "<polygon fill=\"black\" points=\"84.5001,-121.441 81,-111.441 77.5001,-121.441 84.5001,-121.441\" stroke=\"black\"/>\n",
       "</g>\n",
       "<!-- 139735604519312 -->\n",
       "<g class=\"node\" id=\"node9\"><title>139735604519312</title>\n",
       "<polygon fill=\"none\" points=\"7,-1 7,-37 155,-37 155,-1 7,-1\" stroke=\"black\"/>\n",
       "<text font-family=\"Times,serif\" font-size=\"14.00\" text-anchor=\"middle\" x=\"81\" y=\"-15.3\">activation_3: Activation</text>\n",
       "</g>\n",
       "<!-- 139735604865552&#45;&gt;139735604519312 -->\n",
       "<g class=\"edge\" id=\"edge8\"><title>139735604865552-&gt;139735604519312</title>\n",
       "<path d=\"M81,-74.937C81,-66.8072 81,-56.8761 81,-47.7047\" fill=\"none\" stroke=\"black\"/>\n",
       "<polygon fill=\"black\" points=\"84.5001,-47.4406 81,-37.4407 77.5001,-47.4407 84.5001,-47.4406\" stroke=\"black\"/>\n",
       "</g>\n",
       "</g>\n",
       "</svg>"
      ],
      "text/plain": [
       "<IPython.core.display.SVG object>"
      ]
     },
     "execution_count": 5,
     "metadata": {},
     "output_type": "execute_result"
    }
   ],
   "source": [
    "from IPython.display import SVG \n",
    "from keras.utils.vis_utils import model_to_dot \n",
    "SVG(model_to_dot(model).create(prog='dot', format='svg'))"
   ]
  },
  {
   "cell_type": "code",
   "execution_count": 6,
   "metadata": {
    "collapsed": false
   },
   "outputs": [],
   "source": [
    "model.save('mnist-example-model.h5')"
   ]
  },
  {
   "cell_type": "code",
   "execution_count": null,
   "metadata": {
    "collapsed": true
   },
   "outputs": [],
   "source": []
  }
 ],
 "metadata": {
  "kernelspec": {
   "display_name": "Python 2",
   "language": "python",
   "name": "python2"
  },
  "language_info": {
   "codemirror_mode": {
    "name": "ipython",
    "version": 2
   },
   "file_extension": ".py",
   "mimetype": "text/x-python",
   "name": "python",
   "nbconvert_exporter": "python",
   "pygments_lexer": "ipython2",
   "version": "2.7.6"
  }
 },
 "nbformat": 4,
 "nbformat_minor": 0
}
